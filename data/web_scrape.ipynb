{
 "cells": [
  {
   "cell_type": "code",
   "execution_count": 6,
   "metadata": {},
   "outputs": [],
   "source": [
    "import json\n",
    "\n",
    "import requests\n",
    "from bs4 import BeautifulSoup as bs"
   ]
  },
  {
   "cell_type": "markdown",
   "metadata": {},
   "source": [
    "# Getting the majors, minors, honor programs, and fellowships' requirements"
   ]
  },
  {
   "cell_type": "code",
   "execution_count": 12,
   "metadata": {},
   "outputs": [],
   "source": [
    "def getDegreeLink(soup, id) :\n",
    "    urls = []\n",
    "    for link in soup.find(id=id).find_all('a') :\n",
    "        href = link.get('href')\n",
    "        if 'college-of-liberal-arts' in href:\n",
    "            urls.append(href + 'majors-minors/')\n",
    "\n",
    "    return list(set(urls))\n",
    "\n",
    "def getRequirements(url, className) :\n",
    "    page = requests.get(url)\n",
    "    soup = bs(page.content, \"html.parser\")\n",
    "\n",
    "    titles = soup.find_all(class_=className)\n",
    "    degrees = []\n",
    "\n",
    "    for title in titles:\n",
    "        degreeName = title.text\n",
    "        reqTable = title.find_next_sibling()\n",
    "        degreeDetail = getReqTableContent(reqTable)\n",
    "        degreeDetail['Major'] = 'major-title' == className\n",
    "        \n",
    "        degreeDetail[\"Name\"] = degreeName\n",
    "        degrees.append(degreeDetail)\n",
    "\n",
    "    return degrees\n",
    "\n",
    "\n",
    "def getReqTableContent(reqTable) :\n",
    "    rows = reqTable.find_all('tr')\n",
    "    detail = {}\n",
    "\n",
    "    for row in rows :\n",
    "        detail[row.find('th').text] = row.find('td').text\n",
    "\n",
    "    return detail\n",
    "\n"
   ]
  },
  {
   "cell_type": "code",
   "execution_count": 14,
   "metadata": {},
   "outputs": [
    {
     "name": "stdout",
     "output_type": "stream",
     "text": [
      "['https://www.depauw.edu/academics/college-of-liberal-arts/africana-studies/majors-minors/', 'https://www.depauw.edu/academics/college-of-liberal-arts/sociology-and-anthropology/majors-minors/', 'https://www.depauw.edu/academics/college-of-liberal-arts/chemistry-and-biochemistry/majors-minors/', 'https://www.depauw.edu/academics/college-of-liberal-arts/physics-astronomy/majors-minors/', 'https://www.depauw.edu/academics/college-of-liberal-arts/art/majors-minors/', 'https://www.depauw.edu/academics/college-of-liberal-arts/hispanic/majors-minors/', 'https://www.depauw.edu/academics/college-of-liberal-arts/modern-languages/majors-minors/', 'https://www.depauw.edu/academics/college-of-liberal-arts/italian/majors-minors/', 'https://www.depauw.edu/academics/college-of-liberal-arts/computer-science/majors-minors/', 'https://www.depauw.edu/academics/college-of-liberal-arts/peace-and-conflict-studies/majors-minors/', 'https://www.depauw.edu/academics/college-of-liberal-arts/economics-management/majors-minors/', 'https://www.depauw.edu/academics/college-of-liberal-arts/classical-studies/majors-minors/', 'https://www.depauw.edu/academics/college-of-liberal-arts/chinese/majors-minors/', 'https://www.depauw.edu/academics/college-of-liberal-arts/asian-studies/majors-minors/', 'https://www.depauw.edu/academics/college-of-liberal-arts/global-health/majors-minors/', 'https://www.depauw.edu/academics/college-of-liberal-arts/kinesiology/majors-minors/', 'https://www.depauw.edu/academics/college-of-liberal-arts/envgeo/majors-minors/', 'https://www.depauw.edu/academics/college-of-liberal-arts/philosophy/majors-minors/', 'https://www.depauw.edu/academics/college-of-liberal-arts/german/majors-minors/', 'https://www.depauw.edu/academics/college-of-liberal-arts/political-science/majors-minors/', 'https://www.depauw.edu/academics/college-of-liberal-arts/religious-studies/majors-minors/', 'https://www.depauw.edu/academics/college-of-liberal-arts/psychology/majors-minors/', 'https://www.depauw.edu/academics/college-of-liberal-arts/film-studies/majors-minors/', 'https://www.depauw.edu/academics/college-of-liberal-arts/biology/majors-minors/', 'https://www.depauw.edu/academics/college-of-liberal-arts/english/majors-minors/', 'https://www.depauw.edu/academics/college-of-liberal-arts/communication-theatre/majors-minors/', 'https://www.depauw.edu/academics/college-of-liberal-arts/japanese/majors-minors/', 'https://www.depauw.edu/academics/college-of-liberal-arts/womens-studies/majors-minors/', 'https://www.depauw.edu/academics/college-of-liberal-arts/french/majors-minors/', 'https://www.depauw.edu/academics/college-of-liberal-arts/history/majors-minors/', 'https://www.depauw.edu/academics/college-of-liberal-arts/education-studies/majors-minors/', 'https://www.depauw.edu/academics/college-of-liberal-arts/mathematics/majors-minors/']\n"
     ]
    }
   ],
   "source": [
    "def majorMinorReqs():\n",
    "    url = \"https://www.depauw.edu/academics/\"\n",
    "    page = requests.get(url)\n",
    "    soup = bs(page.content, \"html.parser\")\n",
    "\n",
    "    majorURLs = getDegreeLink(soup, 'majors')\n",
    "    majorsMinors = []\n",
    "    print(majorURLs)\n",
    "    for link in majorURLs:\n",
    "        majorsMinors += getRequirements(link, 'major-title')\n",
    "        majorsMinors += getRequirements(link, 'minor-title')\n",
    "\n",
    "    json_object = json.dumps({\"Degrees\": majorsMinors})\n",
    "    with open(\"majorsMinors.json\", \"w\") as outfile:\n",
    "        outfile.write(json_object)    \n",
    "\n",
    "majorMinorReqs()"
   ]
  },
  {
   "cell_type": "markdown",
   "metadata": {},
   "source": [
    "# Getting the courses information"
   ]
  },
  {
   "cell_type": "code",
   "execution_count": 5,
   "metadata": {},
   "outputs": [],
   "source": [
    "def getDeptLink(coursesLs, className=None):\n",
    "    urls = []\n",
    "    aLs = coursesLs.find_all('a')\n",
    "    if (className) :\n",
    "        aLs = coursesLs.find(class_=className).find_all('a')\n",
    "\n",
    "    for link in aLs :\n",
    "        href = link.get('href')\n",
    "        if (href and \"https://www.depauw.edu/academics/catalog/courses/\" in href):\n",
    "            urls.append(href)\n",
    "\n",
    "    # return set to remove duplicates\n",
    "    return list(set(urls))\n",
    "\n",
    "\n",
    "def getCourseDetail(courseURL):\n",
    "    detail = {}\n",
    "    title = bs(requests.get(courseURL).content, \"html.parser\").find(class_='form__head')\n",
    "    courseCode = title.find('small')\n",
    "    try:\n",
    "        reqHeader = title.find_next_sibling('table').find_all('th')\n",
    "        reqRow = title.find_next_sibling('table').find_all('td')\n",
    "    except:\n",
    "        return None\n",
    "    else:\n",
    "\n",
    "        for i in range (3):\n",
    "            detail[reqHeader[i].text] = reqRow[i].text\n",
    "        detail['url'] = courseURL\n",
    "        detail['course'] = courseCode.text\n",
    "        \n",
    "        return detail\n",
    "\n",
    "\n",
    "def getCourses() :\n",
    "    url = \"https://www.depauw.edu/academics/catalog/courses/\"\n",
    "\n",
    "    page = requests.get(url)\n",
    "    soup = bs(page.content, \"html.parser\")\n",
    "    coursesLs = soup.find(class_='columns_2')\n",
    "\n",
    "    deptLinks = getDeptLink(coursesLs)\n",
    "    courseLinks = []\n",
    "\n",
    "    for deptLink in deptLinks:\n",
    "        deptSoup = bs(requests.get(deptLink).content, \"html.parser\")\n",
    "        courseLinks += getDeptLink(deptSoup, 'content listing')\n",
    "    \n",
    "\n",
    "    courses = []\n",
    "    for each in courseLinks:\n",
    "        courseDetail = getCourseDetail(each)\n",
    "        if (courseDetail):\n",
    "            courses.append(courseDetail)\n",
    "    \n",
    "    json_object = json.dumps({\"Courses\": courses})\n",
    "    with open(\"courses.json\", \"w\") as outfile:\n",
    "        outfile.write(json_object)    \n",
    "\n",
    "\n",
    "\n",
    "getCourses()"
   ]
  },
  {
   "attachments": {},
   "cell_type": "markdown",
   "metadata": {},
   "source": [
    "# Processing the data to the correct datatype\n",
    "\n",
    "### 1. Processing the courses data TODO\n",
    "1. scrape information regarding competency offered by the courses\n",
    "2. adjust the data so that it has the same attributes as the Course object"
   ]
  },
  {
   "cell_type": "code",
   "execution_count": 21,
   "metadata": {},
   "outputs": [],
   "source": [
    "import json\n",
    "from fractions import Fraction\n",
    "import re\n",
    "\n",
    "def updateDistArea(courses):\n",
    "    # val is a single course. I'm too lazy to rename lmao\n",
    "    for val in courses:\n",
    "        distStr = val['Distribution Area']\n",
    "        distAr = []\n",
    "        if (\"Arts and Humanities\" in distStr):\n",
    "            distAr.append('AH')\n",
    "        \n",
    "        if (\"Social Science\" in distStr):\n",
    "            distAr.append('SS')\n",
    "\n",
    "        if (\"Global Learning\" in distStr):\n",
    "            distAr.append('GL')\n",
    "\n",
    "        if (\"Science and Mathematics\" in distStr):\n",
    "            distAr.append('SM')\n",
    "\n",
    "        if (\"Privilege, Power And Diversity\" in distStr):\n",
    "            distAr.append('PPD')\n",
    "\n",
    "        val['Distribution Area'] = distAr\n",
    "\n",
    "\n",
    "def updateCredits(courses):    \n",
    "    # val is a single course. I'm too lazy to rename lmao\n",
    "    for val in courses:\n",
    "        creditStr = re.sub(r' ([cC](ourse|redit))?.*', '', val['Credits']).split('-')\n",
    "        credits = []\n",
    "        for cre in creditStr:\n",
    "            if (bool(re.search(r'\\d', cre))):\n",
    "                credits.append(float(Fraction(cre)))\n",
    "        val['Credits'] = credits\n",
    "\n",
    "def updatePrereqs(courses):\n",
    "    for course in courses:\n",
    "        preReqStr = course['Prerequisites']\n",
    "        if (not preReqStr):\n",
    "            course['Required courses'] = []\n",
    "        else:\n",
    "            course['SPAC'] = True if (re.search(r'consent|permission of instructor', preReqStr, re.IGNORECASE)) else False\n",
    "            reqCourses = re.split(r'and|;\\s', preReqStr) if (re.search(r'or|;', preReqStr)) else re.split(r',\\s', preReqStr)\n",
    "            for i in range (len(reqCourses)):\n",
    "                reqCourses[i] = re.findall(r'[A-Z]?[A-Za-z]{3}\\s\\d{3}\\w{0,2}', reqCourses[i])\n",
    "            course['Required courses'] = reqCourses\n",
    "\n",
    "\n",
    "def process_courses() :\n",
    "    with open('courses.json', 'r') as f:\n",
    "        allCourses = json.load(f)\n",
    "        courses = allCourses['Courses']\n",
    "        updateDistArea(courses)\n",
    "        updateCredits(courses)\n",
    "        updatePrereqs(courses)\n",
    "        \n",
    "    with open('updatedCourses.json', 'w') as f:\n",
    "        json_object = json.dumps({'Courses' : courses})\n",
    "        f.write(json_object)\n",
    "        \n",
    "\n",
    "process_courses()"
   ]
  },
  {
   "cell_type": "markdown",
   "metadata": {},
   "source": [
    "### Regex for course prerequisites (or requirements in majorsMinors)\n",
    "\n",
    "1. Check if has `permission of instructor`:\n",
    "    - Yes: replace `permission of instructor` with `\"\"` and set `SPAC` field to `True`\n",
    "    - No: set `SPAC` field to `False`\n",
    "\n",
    "2. The actual prerequisites will be an array. Each element of the array is one requirements. Each element will be a set. Can have duplicated set if required 2+ courses from the same list of courses. i.e., two 300-level courses will be displayed as 2 sets (the same) of all the 300-level courses.\n",
    "\n",
    "3. How to produce the correct regex to solve this\n",
    "    - regex of a course: `[A-Z]?[A-Za-z]{3}\\s\\d{3}\\w?`\n",
    "    - replace all the `/` with ` or `"
   ]
  },
  {
   "cell_type": "code",
   "execution_count": 3,
   "metadata": {},
   "outputs": [
    {
     "name": "stdout",
     "output_type": "stream",
     "text": [
      "[['MATH 331', 'MATH 336', 'ECON 390'], ['MATH 441'], ['MATH 341', 'MATH 348', 'ECON 385', 'ECON 450'], ['CSC 233'], ['MUS 122']]\n"
     ]
    }
   ],
   "source": [
    "import re\n",
    "s = \"MATH 331 or MATH 336/ECON 390 and MATH 441 and MATH 341, or Eng 123, MATH 348, ECON 385 or ECON 450 and CSC 233; MUS 122_1\"\n",
    "\n",
    "a = re.split(r'and|;\\s', s)\n",
    "for i in range (len(a)):\n",
    "    a[i] = re.findall(r'[A-Z]{3,4}\\s\\d{3}', a[i])\n",
    "    \n",
    "\n",
    "print (a)"
   ]
  },
  {
   "attachments": {},
   "cell_type": "markdown",
   "metadata": {},
   "source": [
    "### 2. Processing Major/Minor data TODO\n",
    "1. add the field to the data to give it the same attributes as the program objects\n",
    "2. "
   ]
  },
  {
   "cell_type": "code",
   "execution_count": 1,
   "metadata": {},
   "outputs": [
    {
     "name": "stdout",
     "output_type": "stream",
     "text": [
      "Total courses required                        object\n",
      "Core courses                                  object\n",
      "Other required courses                        object\n",
      "Number 300 and 400 level courses              object\n",
      "Senior requirement and capstone experience    object\n",
      "Recent changes in major                       object\n",
      "Writing in the Major                          object\n",
      "Major                                           bool\n",
      "Name                                          object\n",
      "Additional information                        object\n",
      "Note                                          object\n",
      "dtype: object\n"
     ]
    },
    {
     "data": {
      "text/plain": [
       "(100, 11)"
      ]
     },
     "execution_count": 1,
     "metadata": {},
     "output_type": "execute_result"
    }
   ],
   "source": [
    "import pandas as pd\n",
    "import json\n",
    "\n",
    "\n",
    "def extractCredit(s: str) -> float:\n",
    "    return 0.0\n",
    "\n",
    "with open('majorsMinors.json', 'r') as courseF:\n",
    "    courses = json.load(courseF)['Degrees']\n",
    "    mDf = pd.DataFrame.from_records(courses)\n",
    "\n",
    "print(mDf.dtypes)\n",
    "mDf.fillna('None', inplace=True)\n",
    "mDf.shape\n",
    "\n",
    "\n",
    "# s = ['nine', 'one-half', 'nine and one-half', '2']\n",
    "# print(float('11.5'))\n",
    "# for each in s:\n",
    "#     print(w2n.word_to_num(each))"
   ]
  },
  {
   "cell_type": "code",
   "execution_count": 2,
   "metadata": {},
   "outputs": [
    {
     "name": "stdout",
     "output_type": "stream",
     "text": [
      "Distribution Area    object\n",
      "Prerequisites        object\n",
      "Credits              object\n",
      "url                  object\n",
      "course               object\n",
      "SPAC                 object\n",
      "Required courses     object\n",
      "dtype: object\n"
     ]
    },
    {
     "data": {
      "text/plain": [
       "(1220, 7)"
      ]
     },
     "execution_count": 2,
     "metadata": {},
     "output_type": "execute_result"
    }
   ],
   "source": [
    "with open('updatedCourses.json', 'r') as f:\n",
    "    courses = json.load(f)['Courses']\n",
    "    cDf = pd.DataFrame.from_records(courses)\n",
    "    print(cDf.dtypes)\n",
    "cDf.loc[:, 'SPAC'].fillna(False, inplace=True)\n",
    "cDf.loc[:, 'Prerequisites'] = cDf.loc[:, 'Prerequisites'].map(lambda v: 'None' if (v.isspace() or not v) else v)\n",
    "cDf.shape"
   ]
  },
  {
   "cell_type": "markdown",
   "metadata": {},
   "source": [
    "# Adding the data to Firebase DB"
   ]
  },
  {
   "cell_type": "code",
   "execution_count": null,
   "metadata": {},
   "outputs": [],
   "source": [
    "import firebase_admin\n",
    "from firebase_admin import db\n",
    "import json\n",
    "\n",
    "databaseURL = \"https://strike-depauw-default-rtdb.firebaseio.com/\"\n",
    "cred_obj = firebase_admin.credentials.Certificate('./firebaseServiceKey.json')\n",
    "default_app = firebase_admin.initialize_app(cred_obj, {\n",
    "    'databaseURL': databaseURL\n",
    "}, name='test')"
   ]
  },
  {
   "cell_type": "code",
   "execution_count": null,
   "metadata": {},
   "outputs": [],
   "source": [
    "ref = db.reference('/')\n",
    "\n",
    "with open(\"courses.json\", 'r') as jsonF:\n",
    "    content = json.load(jsonF)\n",
    "\n",
    "ref.set(content) # to add the whole json structure of the database"
   ]
  }
 ],
 "metadata": {
  "kernelspec": {
   "display_name": "eaai23",
   "language": "python",
   "name": "python3"
  },
  "language_info": {
   "codemirror_mode": {
    "name": "ipython",
    "version": 3
   },
   "file_extension": ".py",
   "mimetype": "text/x-python",
   "name": "python",
   "nbconvert_exporter": "python",
   "pygments_lexer": "ipython3",
   "version": "3.10.4 (main, Mar 31 2022, 08:41:55) [GCC 7.5.0]"
  },
  "orig_nbformat": 4,
  "vscode": {
   "interpreter": {
    "hash": "fc6b059f71e9e03748d21d79e343546fbeab1600b686b2ae7cca8415e8b19782"
   }
  }
 },
 "nbformat": 4,
 "nbformat_minor": 2
}
